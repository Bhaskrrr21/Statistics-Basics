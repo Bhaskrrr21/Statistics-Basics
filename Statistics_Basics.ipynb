{
  "nbformat": 4,
  "nbformat_minor": 0,
  "metadata": {
    "colab": {
      "provenance": []
    },
    "kernelspec": {
      "name": "python3",
      "display_name": "Python 3"
    },
    "language_info": {
      "name": "python"
    }
  },
  "cells": [
    {
      "cell_type": "markdown",
      "source": [
        "# **Statistics Basics**"
      ],
      "metadata": {
        "id": "OBrlvgu12qBV"
      }
    },
    {
      "cell_type": "markdown",
      "source": [
        "Q1. Explain the different types of data (qualitative and quantitative) and provide examples of each. Discuss\n",
        "nominal, ordinal, interval, and ratio scales. ?\n",
        "\n",
        "✴ Data can be classified into two main types: qualitative and quantitative.\n",
        " 1. Qualitative Data >\n",
        " - Also known as categorical data\n",
        " - It represents descriptions or characteristics that cannot be measured numerically.\n",
        " - Typically classified into different categories or labels.\n",
        " - Further divided into Nominal and Ordinal scales.\n",
        " - Examples: Gender (Male, Female, Other)\n",
        "\n",
        " 2. Quantitative Data >\n",
        " - Also known as numerical data\n",
        " - It represents numerical values that can be counted or measured.\n",
        " - Further divided into Discrete and Continuous types.\n",
        " - Uses Interval and Ratio scales.\n",
        " - Examples: Age (22 years)\n",
        "\n",
        "1. Nominal Scale (Categorical, No Order)\n",
        " - Data is classified into distinct categories with no specific order.\n",
        " - Examples: Blood groups (A, B, AB, O)\n",
        "\n",
        "\n",
        "2. Ordinal Scale (Categorical, Ordered)\n",
        " - Data is categorized with a meaningful order, but the difference between categories is not uniform.\n",
        " - Used when ranking or ordering matters.\n",
        " - Examples: Education levels, Survey responses\n",
        "\n",
        "3. Interval Scale (Numerical, No True Zero)\n",
        " - Numeric scale where differences between values are meaningful.\n",
        " - No absolute zero point, meaning values can be negative.\n",
        " - Examples: Temperature (°C, °F), IQ scores\n",
        "\n",
        "\n",
        "4. Ratio Scale (Numerical, True Zero)\n",
        " - Numeric scale with a meaningful zero point, allowing for meaningful ratio comparisons.\n",
        " - Most precise level of measurement.\n",
        " - Examples: Height (0 cm means no height)\n",
        "\n",
        "\n",
        "\n",
        "\n",
        "\n",
        "\n",
        "\n"
      ],
      "metadata": {
        "id": "s5GX1xbo2tYa"
      }
    },
    {
      "cell_type": "markdown",
      "source": [
        "Q2. What are the measures of central tendency, and when should you use each? Discuss the mean, median,\n",
        "and mode with examples and situations where each is appropriate ?\n",
        "- Measures of central tendency are statistical metrics that summarize a set of data by identifying the central point within that dataset.\n",
        "\n",
        "1. Mean\n",
        "\n",
        " - Definition: The average of a dataset, calculated by summing all values and dividing by the number of values.\n",
        " - Example: For the dataset 3, 5, 7, 9, the mean is ( 3 + 5 + 7 + 9) / 4 = 6.\n",
        " - Use: Best for normally distributed data without outliers.\n",
        "2. Median\n",
        "\n",
        " - Definition: The middle value when data is ordered. If even, it's the average of the two middle values.\n",
        " - Example: For 3, 5, 7, 9, the median is 5. For 3, 5, 7, 9 the median is (5 + 7) / 2 = 6.\n",
        " - Use: Ideal for skewed data or when outliers are present.\n",
        "3. Mode\n",
        "\n",
        " - Definition: The most frequently occurring value in a dataset.\n",
        " - Example: In 2, 3, 3, 5, 7, 10, the mode is 3. In 2, 3, 3, 5, 5, the modes are 3 and 5 (bimodal).\n",
        " - Use: Useful for categorical data or to find the most common value."
      ],
      "metadata": {
        "id": "zDClVb9E-KCJ"
      }
    },
    {
      "cell_type": "markdown",
      "source": [
        "Q3. Explain the concept of dispersion. How do variance and standard deviation measure the spread of data ?\n",
        "- Dispersion refers to how spread out or varied the data points in a dataset are. It helps us understand how much the values differ from each other and from the average (mean).\n",
        "- Variance\n",
        "  - It measures the average squared deviation of each data point from the mean\n",
        " and gives an idea of how spread out the data is. A larger variance means more spread, while a smaller variance means the data is closer to the mean.\n",
        "- Standard deviation\n",
        " - It is simply the square root of the variance\n",
        " - It is more intuitive and commonly used in practice since it maintains the same unit as the data.\n",
        "\n"
      ],
      "metadata": {
        "id": "wT2MW1XbAge9"
      }
    },
    {
      "cell_type": "markdown",
      "source": [
        "Q4. What is a box plot, and what can it tell you about the distribution of data??\n",
        "- A box plot is a graphical representation of the distribution of a dataset. It provides a visual summary of key statistical measures, including the median, quartiles, and potential outliers\n",
        "\n",
        "-  Box Plot Can Tell You About ▶\n",
        "1. Central Tendency: The position of the median line within the box indicates the central tendency of the data\n",
        "2. Outliers: The presence of outliers can be easily identified, which may indicate variability in the data\n",
        "3. Comparison Between Groups: Box plots are particularly useful for comparing distributions between different groups or categories\n",
        "4. Skewness – If the median is not centered inside the box, it suggests skewness:\n",
        " - Left-skewed (negative skew): Median closer to Q3.\n",
        " - Right-skewed (positive skew): Median closer to Q1."
      ],
      "metadata": {
        "id": "Ns4Z6X5GCjPD"
      }
    },
    {
      "cell_type": "markdown",
      "source": [
        "Q5. Discuss the role of random sampling in making inferences about populations ?\n",
        "- Random sampling is essential for making valid inferences about populations. It ensures that samples are representative, reduces bias, supports statistical validity, and allows for generalization of findings.\n",
        "- Example of Random Sampling in Inference\n",
        "A company wants to know the average salary of its 5,000 employees. Instead of surveying everyone, they randomly select 300 employees and calculate their average salary."
      ],
      "metadata": {
        "id": "E_48pRWYFH4E"
      }
    },
    {
      "cell_type": "markdown",
      "source": [
        "Q6. Explain the concept of skewness and its types. How does skewness affect the interpretation of data ?\n",
        "- Skewness is a statistical measure that describes the asymmetry of the distribution of data points in a dataset. It indicates whether the data is skewed to the left (negatively skewed) or to the right (positively skewed) relative to the mean\n",
        "- Skewness affects the interpretation by indicating the presence of outliers and the direction of data concentration, which is crucial for choosing the right statistical methods."
      ],
      "metadata": {
        "id": "OiHiI6ZpGICH"
      }
    },
    {
      "cell_type": "markdown",
      "source": [
        "Q7. What is the interquartile range (IQR), and how is it used to detect outliers?\n",
        "- The interquartile range (IQR) is a measure of statistical dispersion that represents the range within which the middle 50% of a dataset lies. It is calculated as the difference between the third quartile (Q3) and the first quartile (Q1)\n",
        "- The following steps outline how to use the IQR for outlier detection:\n",
        "\n",
        " - Calculate the IQR as described above.\n",
        "\n",
        " - Determine the Lower and Upper Boundaries:\n",
        "\n",
        "Lower Bound: ( Q1 - 1.5 \\times \\text{IQR} )\n",
        "Upper Bound: ( Q3 + 1.5 \\times \\text{IQR} )\n",
        " - Identify Outliers:\n",
        "\n",
        "Any data point below the lower bound or above the upper bound is considered an outlier."
      ],
      "metadata": {
        "id": "yqZPInMUHaNv"
      }
    },
    {
      "cell_type": "markdown",
      "source": [
        "Q8. Discuss the conditions under which the binomial distribution is used ?\n",
        "- The binomial distribution is used to model the number of successes in a fixed number of independent trials, where each trial has two possible outcomes (success or failure).\n",
        "\n",
        "1. Key Conditions:\n",
        "Fixed Number of Trials (n) – The total number of trials is predetermined.\n",
        "\n",
        "2. Only Two Outcomes – Each trial results in either a success (p) or a failure (1 - p).\n",
        "\n",
        "3. Independent Trials – The outcome of one trial does not affect another.\n",
        "\n",
        "4. Constant Probability (p) – The probability of success remains the same for all trials."
      ],
      "metadata": {
        "id": "8ba4MLlSGD_f"
      }
    },
    {
      "cell_type": "markdown",
      "source": [
        "Q9. Explain the properties of the normal distribution and the empirical rule (68-95-99.7 rule) ?\n",
        "\n",
        " Properties of the Normal Distribution:\n",
        "\n",
        "1. Symmetry: The curve is symmetric around the mean (\n",
        "𝜇\n",
        "μ), meaning the left and right sides are mirror images.\n",
        "\n",
        "2. Mean = Median = Mode: In a normal distribution, all three measures of central tendency are equal.\n",
        "\n",
        "3. Bell-Shaped Curve: The highest point is at the mean, and the probability density decreases as you move away from it.\n",
        "\n",
        "4. Asymptotic: The curve never touches the x-axis but extends infinitely in both directions.\n",
        "\n",
        " The empirical rule applies to normally distributed data and states that:\n",
        "\n",
        " - 68% of data falls within one standard deviation (\n",
        "𝜇\n",
        "±\n",
        "1\n",
        "𝜎\n",
        "μ±1σ) of the mean.\n",
        "\n",
        " - 95% of data falls within two standard deviations (\n",
        "𝜇\n",
        "±\n",
        "2\n",
        "𝜎\n",
        "μ±2σ) of the mean.\n",
        "\n",
        " - 99.7% of data falls within three standard deviations (\n",
        "𝜇\n",
        "±\n",
        "3\n",
        "𝜎\n",
        "μ±3σ) of the mean.\n"
      ],
      "metadata": {
        "id": "4i4wamS1NT_g"
      }
    },
    {
      "cell_type": "markdown",
      "source": [
        "Q10. Provide a real-life example of a Poisson process and calculate the probability for a specific event ?\n",
        "- Suppose buses arrive at a bus stop at an average rate of 2 buses every 30 minutes.\n",
        "Probability of exactly 1 bus arrives in 30 minutes\n",
        "- Average rate 𝜆 = 2\n",
        "\n",
        "- Desired number of arrivals k = 1\n",
        "\n",
        "- Use the formula:\n",
        "\n",
        "P(X=1)= e ^-2 ⋅2^1 / 1! = e^-2 . 2\n",
        "\n",
        "e^-2 ≈ 0.1353\n",
        "\n",
        "P (X=1) = 0.1353⋅2 = 0.2706\n",
        "- Final Answer:\n",
        "There is a 27.1% chance that exactly 1 bus will arrive in 30 minutes.\n",
        "\n"
      ],
      "metadata": {
        "id": "lNXbVU0gFhB7"
      }
    },
    {
      "cell_type": "markdown",
      "source": [
        "Q11. Explain what a random variable is and differentiate between discrete and continuous random variables ?\n",
        "- A random variable is a variable that represents the numerical outcome of a random experiment. It assigns a number to each possible outcome of that experiment.\n",
        "- Example - You roll a fair six-sided die once.\n",
        "\n",
        " Let’s define a random variable X as:\n",
        "\n",
        " X= the number that appears on the top face of the die.\n",
        "\n",
        "  Differentiate between discrete and continuous random variables are ▶\n",
        "\n",
        "- Discrete Random Variable\n",
        "1. Values - Countable\n",
        "2. Examples - Number of students, number of calls\n",
        "3. Probability Function - Probability Mass Function\n",
        "4. Probability of a Specific ValueN - Non-zero (can be calculated)\n",
        "\n",
        "- Continuous Random Variable\n",
        "\n",
        "1. Values - Uncountable\n",
        "2. Examples - Height, time, temperature\n",
        "3. Probability Function Probability Density Function\n",
        "4. Probability of a Specific Value - Zero (probability is calculated over intervals)\n",
        "\n",
        "\n",
        "\n",
        "\n",
        "\n"
      ],
      "metadata": {
        "id": "yCPzF3YLIXjI"
      }
    },
    {
      "cell_type": "markdown",
      "source": [],
      "metadata": {
        "id": "XuqsE3tS3rkE"
      }
    },
    {
      "cell_type": "markdown",
      "source": [],
      "metadata": {
        "id": "YqbHie-WFouN"
      }
    }
  ]
}